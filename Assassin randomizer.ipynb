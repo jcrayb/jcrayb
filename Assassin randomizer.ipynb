{
  "metadata": {
    "language_info": {
      "codemirror_mode": {
        "name": "python",
        "version": 3
      },
      "file_extension": ".py",
      "mimetype": "text/x-python",
      "name": "python",
      "nbconvert_exporter": "python",
      "pygments_lexer": "ipython3",
      "version": "3.8"
    },
    "kernelspec": {
      "name": "python",
      "display_name": "Python (Pyodide)",
      "language": "python"
    }
  },
  "nbformat_minor": 4,
  "nbformat": 4,
  "cells": [
    {
      "cell_type": "code",
      "source": "import pandas as pd\nfrom random import randint as rd",
      "metadata": {
        "trusted": true
      },
      "execution_count": 30,
      "outputs": []
    },
    {
      "cell_type": "code",
      "source": "names_csv = pd.read_csv('names.csv')\nnames_csv = names_csv.drop('Timestamp', axis= 1)\nnames_csv = names_csv.drop('Email Address', axis=1)\n#names_csv",
      "metadata": {
        "trusted": true
      },
      "execution_count": 57,
      "outputs": []
    },
    {
      "cell_type": "code",
      "source": "def generateTargets(nameFrame):\n    people = [i for i in range(len(nameFrame['Name']))]\n    targets = []\n    new = pd.DataFrame()\n    n = len(people)\n    while len(targets)<n:\n        \n        random = rd(0, n-1)\n        if random in targets:\n            continue\n        else:\n            targets += [random]\n    namesArray = [nameFrame['Name'][i] for i in range(len(people))]\n    targetNames = [nameFrame['Name'][targets[i]] for i in range(len(targets))]\n    new['Name'] = namesArray\n    new['Target'] = targetNames\n    new['Phone #'] = nameFrame['Phone number']\n    new['Eliminated?'] = [False for i in range(len(new['Name']))]\n    save = new.to_csv('Targets.csv')\n    return new\n\ndef sendText(nameFrame):\n    textsList = []\n    for i in range(len(nameFrame['Name'])):\n        name = nameFrame['Name'][i]\n        target = nameFrame['Target'][i]\n        number = nameFrame['Phone #'][i]\n        text = f'Hello, this is Chris, social coordinator for ITFC. Your target for this round of Assassin is {target}. Make sure to send me a pic of your eliminated target if you take them out. Good luck.'\n        textsList += [(name, number, text)]\n    return textsList",
      "metadata": {
        "trusted": true
      },
      "execution_count": 58,
      "outputs": []
    },
    {
      "cell_type": "code",
      "source": "nameFrame = generateTargets(names_csv)\n#nameFrame['Eliminated'] = [False for i in range(len(nameFrame['Name']))]\nnames = [nameFrame.reset_index()['Name'][i].split(' ')[0] for i in range(len(targets))]\nnameFrame['Target'] = targets\nnameFrame['Eliminated by'] = ['Nan' for i in range(len(targets))]\nnameFrame['Name'] = names\nnameFrame.to_csv('targets.csv')",
      "metadata": {
        "trusted": true
      },
      "execution_count": 68,
      "outputs": []
    },
    {
      "cell_type": "code",
      "source": "sendText(nameFrame)\ntargets = ['Melissa', 'Tyler', 'Sandin', 'David', 'James', 'Matas', 'Percy', 'Anna Z.', 'Derick', 'Jose', 'Braden', 'Arianna', 'Ryan', 'Maria', 'Lauren', 'Lucca', 'Bridget', 'Adam', 'Patrick', 'Anna J.', 'Ninawa', 'GP']",
      "metadata": {
        "trusted": true
      },
      "execution_count": 21,
      "outputs": []
    },
    {
      "cell_type": "code",
      "source": "#nameFrame['Eliminated?'][13] = True\nnameFrame[]\nnameFrame.to_csv('targets.csv')\nnameFrame",
      "metadata": {
        "trusted": true
      },
      "execution_count": 77,
      "outputs": [
        {
          "execution_count": 77,
          "output_type": "execute_result",
          "data": {
            "text/plain": "       Name   Target         Phone #  Eliminated? Eliminated by\n0   Bridget  Melissa      3092214810        False           Nan\n1     James    Tyler      7325132460        False           Nan\n2     David   Sandin    815-236-7287        False           Nan\n3     Matas    David      6303452298        False           Nan\n4   Melissa    James      2243876508        False           Nan\n5     Maria    Matas    331-980-5854        False           Nan\n6    Braden    Percy  (630) 200-1330        False           Nan\n7      Jose  Anna Z.     13126100280        False           Nan\n8     Lucca   Derick      7082449244        False           Nan\n9     Tyler     Jose    331-213-6547        False           Nan\n10  Derrick   Braden      7082087634        False           Nan\n11     Ryan  Arianna      3312290458         True          Adam\n12     Adam     Ryan      7735635413        False           Nan\n13    Percy    Maria      9176357252         True        Braden\n14  Arianna   Lauren      8155402295        False           Nan\n15   Lauren    Lucca      3128353851        False           Nan\n16   Sandin  Bridget    773-983-7037        False           Nan\n17     Anna     Adam      3095334809        False           Nan\n18     Anna  Patrick    312-825-3630        False           Nan\n19  Gerardo  Anna J.      7739790502        False           Nan\n20  Patrick   Ninawa      2246889649        False           Nan\n21   Ninawa       GP      6309306658        False           Nan",
            "text/html": "<div>\n<style scoped>\n    .dataframe tbody tr th:only-of-type {\n        vertical-align: middle;\n    }\n\n    .dataframe tbody tr th {\n        vertical-align: top;\n    }\n\n    .dataframe thead th {\n        text-align: right;\n    }\n</style>\n<table border=\"1\" class=\"dataframe\">\n  <thead>\n    <tr style=\"text-align: right;\">\n      <th></th>\n      <th>Name</th>\n      <th>Target</th>\n      <th>Phone #</th>\n      <th>Eliminated?</th>\n      <th>Eliminated by</th>\n    </tr>\n  </thead>\n  <tbody>\n    <tr>\n      <th>0</th>\n      <td>Bridget</td>\n      <td>Melissa</td>\n      <td>3092214810</td>\n      <td>False</td>\n      <td>Nan</td>\n    </tr>\n    <tr>\n      <th>1</th>\n      <td>James</td>\n      <td>Tyler</td>\n      <td>7325132460</td>\n      <td>False</td>\n      <td>Nan</td>\n    </tr>\n    <tr>\n      <th>2</th>\n      <td>David</td>\n      <td>Sandin</td>\n      <td>815-236-7287</td>\n      <td>False</td>\n      <td>Nan</td>\n    </tr>\n    <tr>\n      <th>3</th>\n      <td>Matas</td>\n      <td>David</td>\n      <td>6303452298</td>\n      <td>False</td>\n      <td>Nan</td>\n    </tr>\n    <tr>\n      <th>4</th>\n      <td>Melissa</td>\n      <td>James</td>\n      <td>2243876508</td>\n      <td>False</td>\n      <td>Nan</td>\n    </tr>\n    <tr>\n      <th>5</th>\n      <td>Maria</td>\n      <td>Matas</td>\n      <td>331-980-5854</td>\n      <td>False</td>\n      <td>Nan</td>\n    </tr>\n    <tr>\n      <th>6</th>\n      <td>Braden</td>\n      <td>Percy</td>\n      <td>(630) 200-1330</td>\n      <td>False</td>\n      <td>Nan</td>\n    </tr>\n    <tr>\n      <th>7</th>\n      <td>Jose</td>\n      <td>Anna Z.</td>\n      <td>13126100280</td>\n      <td>False</td>\n      <td>Nan</td>\n    </tr>\n    <tr>\n      <th>8</th>\n      <td>Lucca</td>\n      <td>Derick</td>\n      <td>7082449244</td>\n      <td>False</td>\n      <td>Nan</td>\n    </tr>\n    <tr>\n      <th>9</th>\n      <td>Tyler</td>\n      <td>Jose</td>\n      <td>331-213-6547</td>\n      <td>False</td>\n      <td>Nan</td>\n    </tr>\n    <tr>\n      <th>10</th>\n      <td>Derrick</td>\n      <td>Braden</td>\n      <td>7082087634</td>\n      <td>False</td>\n      <td>Nan</td>\n    </tr>\n    <tr>\n      <th>11</th>\n      <td>Ryan</td>\n      <td>Arianna</td>\n      <td>3312290458</td>\n      <td>True</td>\n      <td>Adam</td>\n    </tr>\n    <tr>\n      <th>12</th>\n      <td>Adam</td>\n      <td>Ryan</td>\n      <td>7735635413</td>\n      <td>False</td>\n      <td>Nan</td>\n    </tr>\n    <tr>\n      <th>13</th>\n      <td>Percy</td>\n      <td>Maria</td>\n      <td>9176357252</td>\n      <td>True</td>\n      <td>Braden</td>\n    </tr>\n    <tr>\n      <th>14</th>\n      <td>Arianna</td>\n      <td>Lauren</td>\n      <td>8155402295</td>\n      <td>False</td>\n      <td>Nan</td>\n    </tr>\n    <tr>\n      <th>15</th>\n      <td>Lauren</td>\n      <td>Lucca</td>\n      <td>3128353851</td>\n      <td>False</td>\n      <td>Nan</td>\n    </tr>\n    <tr>\n      <th>16</th>\n      <td>Sandin</td>\n      <td>Bridget</td>\n      <td>773-983-7037</td>\n      <td>False</td>\n      <td>Nan</td>\n    </tr>\n    <tr>\n      <th>17</th>\n      <td>Anna</td>\n      <td>Adam</td>\n      <td>3095334809</td>\n      <td>False</td>\n      <td>Nan</td>\n    </tr>\n    <tr>\n      <th>18</th>\n      <td>Anna</td>\n      <td>Patrick</td>\n      <td>312-825-3630</td>\n      <td>False</td>\n      <td>Nan</td>\n    </tr>\n    <tr>\n      <th>19</th>\n      <td>Gerardo</td>\n      <td>Anna J.</td>\n      <td>7739790502</td>\n      <td>False</td>\n      <td>Nan</td>\n    </tr>\n    <tr>\n      <th>20</th>\n      <td>Patrick</td>\n      <td>Ninawa</td>\n      <td>2246889649</td>\n      <td>False</td>\n      <td>Nan</td>\n    </tr>\n    <tr>\n      <th>21</th>\n      <td>Ninawa</td>\n      <td>GP</td>\n      <td>6309306658</td>\n      <td>False</td>\n      <td>Nan</td>\n    </tr>\n  </tbody>\n</table>\n</div>"
          },
          "metadata": {}
        }
      ]
    },
    {
      "cell_type": "code",
      "source": "",
      "metadata": {},
      "execution_count": null,
      "outputs": []
    }
  ]
}