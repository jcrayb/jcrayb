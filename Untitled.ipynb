{
 "cells": [
  {
   "cell_type": "code",
   "execution_count": 1,
   "id": "67e7075b",
   "metadata": {},
   "outputs": [],
   "source": [
    "#%pip install flask"
   ]
  },
  {
   "cell_type": "code",
   "execution_count": null,
   "id": "09c3357a",
   "metadata": {},
   "outputs": [
    {
     "name": "stdout",
     "output_type": "stream",
     "text": [
      " * Serving Flask app \"__main__\" (lazy loading)\n",
      " * Environment: production\n",
      "\u001b[31m   WARNING: This is a development server. Do not use it in a production deployment.\u001b[0m\n",
      "\u001b[2m   Use a production WSGI server instead.\u001b[0m\n",
      " * Debug mode: off\n"
     ]
    },
    {
     "name": "stderr",
     "output_type": "stream",
     "text": [
      " * Running on http://127.0.0.1:5000/ (Press CTRL+C to quit)\n",
      "127.0.0.1 - - [26/Apr/2023 13:55:52] \"GET / HTTP/1.1\" 200 -\n",
      "127.0.0.1 - - [26/Apr/2023 13:55:56] \"POST / HTTP/1.1\" 200 -\n",
      "127.0.0.1 - - [26/Apr/2023 13:56:00] \"POST / HTTP/1.1\" 200 -\n"
     ]
    }
   ],
   "source": [
    "from flask import Flask, request\n",
    "\n",
    "app = Flask(__name__)\n",
    "\n",
    "@app.route('/', methods=['GET', 'POST'])\n",
    "def index():\n",
    "    input_value = ''\n",
    "    if request.method == 'POST':\n",
    "        input_value = request.form['input_field']\n",
    "    return '''\n",
    "        <form method=\"post\">\n",
    "            <label for=\"input_field\">Enter input:</label><br>\n",
    "            <input type=\"text\" id=\"input_field\" name=\"input_field\"><br>\n",
    "            <input type=\"submit\" value=\"Submit\">\n",
    "        </form>\n",
    "        <br>\n",
    "        <div>\n",
    "            Input value: {}\n",
    "        </div>\n",
    "    '''.format(input_value)\n",
    "\n",
    "if __name__ == '__main__':\n",
    "    app.run()"
   ]
  },
  {
   "cell_type": "code",
   "execution_count": null,
   "id": "6ba426f2",
   "metadata": {},
   "outputs": [],
   "source": []
  }
 ],
 "metadata": {
  "kernelspec": {
   "display_name": "Python 3 (ipykernel)",
   "language": "python",
   "name": "python3"
  },
  "language_info": {
   "codemirror_mode": {
    "name": "ipython",
    "version": 3
   },
   "file_extension": ".py",
   "mimetype": "text/x-python",
   "name": "python",
   "nbconvert_exporter": "python",
   "pygments_lexer": "ipython3",
   "version": "3.9.7"
  }
 },
 "nbformat": 4,
 "nbformat_minor": 5
}
